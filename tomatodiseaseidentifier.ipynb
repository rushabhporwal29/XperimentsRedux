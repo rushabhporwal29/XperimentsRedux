{
 "cells": [
  {
   "cell_type": "code",
   "execution_count": 1,
   "metadata": {},
   "outputs": [],
   "source": [
    "import tensorflow as tf\n",
    "import numpy as np"
   ]
  },
  {
   "cell_type": "code",
   "execution_count": 2,
   "metadata": {},
   "outputs": [],
   "source": [
    "from tensorflow.keras.models import Sequential\n",
    "from tensorflow.keras.layers import Dense, Conv2D, Flatten, Dropout, MaxPooling2D\n",
    "import os"
   ]
  },
  {
   "cell_type": "code",
   "execution_count": 3,
   "metadata": {},
   "outputs": [],
   "source": [
    "train_dir='tomato/train'\n",
    "test_dir='tomato/val'"
   ]
  },
  {
   "cell_type": "code",
   "execution_count": 4,
   "metadata": {},
   "outputs": [
    {
     "ename": "FileNotFoundError",
     "evalue": "[WinError 3] The system cannot find the path specified: 'tomato/train/'",
     "output_type": "error",
     "traceback": [
      "\u001b[1;31m---------------------------------------------------------------------------\u001b[0m",
      "\u001b[1;31mFileNotFoundError\u001b[0m                         Traceback (most recent call last)",
      "\u001b[1;32mf:\\STUDY\\PROJECT\\XperimentsRedux\\tomatodiseaseidentifier.ipynb Cell 4'\u001b[0m in \u001b[0;36m<cell line: 2>\u001b[1;34m()\u001b[0m\n\u001b[0;32m      <a href='vscode-notebook-cell:/f%3A/STUDY/PROJECT/XperimentsRedux/tomatodiseaseidentifier.ipynb#ch0000003?line=0'>1</a>\u001b[0m \u001b[39m#classes for training\u001b[39;00m\n\u001b[1;32m----> <a href='vscode-notebook-cell:/f%3A/STUDY/PROJECT/XperimentsRedux/tomatodiseaseidentifier.ipynb#ch0000003?line=1'>2</a>\u001b[0m \u001b[39mfor\u001b[39;00m i \u001b[39min\u001b[39;00m os\u001b[39m.\u001b[39;49mlistdir(\u001b[39m\"\u001b[39;49m\u001b[39mtomato/train/\u001b[39;49m\u001b[39m\"\u001b[39;49m):\n\u001b[0;32m      <a href='vscode-notebook-cell:/f%3A/STUDY/PROJECT/XperimentsRedux/tomatodiseaseidentifier.ipynb#ch0000003?line=2'>3</a>\u001b[0m     \u001b[39mprint\u001b[39m(i)\n",
      "\u001b[1;31mFileNotFoundError\u001b[0m: [WinError 3] The system cannot find the path specified: 'tomato/train/'"
     ]
    }
   ],
   "source": [
    "#classes for training\n",
    "for i in os.listdir(\"tomato/train/\"):\n",
    "    print(i)"
   ]
  },
  {
   "cell_type": "code",
   "execution_count": 5,
   "metadata": {},
   "outputs": [
    {
     "name": "stdout",
     "output_type": "stream",
     "text": [
      "Found 10000 images belonging to 10 classes.\n",
      "Found 1000 images belonging to 10 classes.\n"
     ]
    }
   ],
   "source": [
    "from tensorflow.keras.preprocessing.image import ImageDataGenerator\n",
    "train_datagen = ImageDataGenerator(rescale=1./255,\n",
    "                                    shear_range=0.2,\n",
    "                                    zoom_range=0.2,\n",
    "                                    horizontal_flip=True)\n",
    "test_datagen = ImageDataGenerator(rescale=1./255)\n",
    "train_generator = train_datagen.flow_from_directory(train_dir,\n",
    "                                                    target_size=(128, 128),\n",
    "                                                    batch_size=64,\n",
    "                                                    class_mode='categorical')\n",
    "validation_generator =  test_datagen.flow_from_directory( test_dir,\n",
    "                                                          target_size=(128, 128),\n",
    "                                                          batch_size=64,\n",
    "                                                          class_mode='categorical')"
   ]
  },
  {
   "cell_type": "code",
   "execution_count": 10,
   "metadata": {},
   "outputs": [
    {
     "name": "stdout",
     "output_type": "stream",
     "text": [
      "Model: \"sequential_1\"\n",
      "_________________________________________________________________\n",
      "Layer (type)                 Output Shape              Param #   \n",
      "=================================================================\n",
      "conv2d_4 (Conv2D)            (None, 124, 124, 32)      2432      \n",
      "_________________________________________________________________\n",
      "max_pooling2d_4 (MaxPooling2 (None, 41, 41, 32)        0         \n",
      "_________________________________________________________________\n",
      "conv2d_5 (Conv2D)            (None, 39, 39, 32)        9248      \n",
      "_________________________________________________________________\n",
      "max_pooling2d_5 (MaxPooling2 (None, 19, 19, 32)        0         \n",
      "_________________________________________________________________\n",
      "conv2d_6 (Conv2D)            (None, 17, 17, 64)        18496     \n",
      "_________________________________________________________________\n",
      "max_pooling2d_6 (MaxPooling2 (None, 8, 8, 64)          0         \n",
      "_________________________________________________________________\n",
      "flatten_1 (Flatten)          (None, 4096)              0         \n",
      "_________________________________________________________________\n",
      "dense_3 (Dense)              (None, 512)               2097664   \n",
      "_________________________________________________________________\n",
      "dropout (Dropout)            (None, 512)               0         \n",
      "_________________________________________________________________\n",
      "dense_4 (Dense)              (None, 128)               65664     \n",
      "_________________________________________________________________\n",
      "dense_5 (Dense)              (None, 10)                1290      \n",
      "=================================================================\n",
      "Total params: 2,194,794\n",
      "Trainable params: 2,194,794\n",
      "Non-trainable params: 0\n",
      "_________________________________________________________________\n"
     ]
    }
   ],
   "source": [
    "import tensorflow as tf\n",
    "from tensorflow import keras\n",
    "from tensorflow.keras.optimizers import Adam\n",
    "model = tf.keras.models.Sequential([\n",
    "    tf.keras.layers.Conv2D(32,(5,5),input_shape=(128,128,3),activation='relu'),\n",
    "    tf.keras.layers.MaxPooling2D(pool_size=(3,3)),\n",
    "    tf.keras.layers.Conv2D(32,(3,3),activation='relu'),\n",
    "    tf.keras.layers.MaxPooling2D(2,2),\n",
    "    tf.keras.layers.Conv2D(64,(3,3),activation='relu'),\n",
    "    tf.keras.layers.MaxPooling2D(2,2),\n",
    "#    tf.keras.layers.Conv2D(512,(3,3),activation='relu'),\n",
    "#    tf.keras.layers.MaxPooling2D(2,2),\n",
    "#    tf.keras.layers.Conv2D(16,(3,3),activation='relu'),\n",
    "#    tf.keras.layers.MaxPooling2D(2,2),\n",
    "    tf.keras.layers.Flatten(),\n",
    "    tf.keras.layers.Dense(512, activation='relu'),\n",
    "    tf.keras.layers.Dropout(0.25),\n",
    "    tf.keras.layers.Dense(128, activation='relu'),\n",
    "    tf.keras.layers.Dense(10, activation='softmax')\n",
    "])\n",
    "model.compile(loss='categorical_crossentropy',\n",
    "              optimizer=Adam(lr=0.001),\n",
    "              metrics=['accuracy'])\n",
    "model.summary()"
   ]
  },
  {
   "cell_type": "code",
   "execution_count": 11,
   "metadata": {},
   "outputs": [
    {
     "data": {
      "text/plain": [
       "{'Tomato___Bacterial_spot': 0,\n",
       " 'Tomato___Early_blight': 1,\n",
       " 'Tomato___Late_blight': 2,\n",
       " 'Tomato___Leaf_Mold': 3,\n",
       " 'Tomato___Septoria_leaf_spot': 4,\n",
       " 'Tomato___Spider_mites Two-spotted_spider_mite': 5,\n",
       " 'Tomato___Target_Spot': 6,\n",
       " 'Tomato___Tomato_Yellow_Leaf_Curl_Virus': 7,\n",
       " 'Tomato___Tomato_mosaic_virus': 8,\n",
       " 'Tomato___healthy': 9}"
      ]
     },
     "execution_count": 11,
     "metadata": {},
     "output_type": "execute_result"
    }
   ],
   "source": [
    "classes=train_generator.class_indices \n",
    "classes"
   ]
  },
  {
   "cell_type": "code",
   "execution_count": 12,
   "metadata": {},
   "outputs": [
    {
     "name": "stdout",
     "output_type": "stream",
     "text": [
      "Epoch 1/20\n",
      "156/156 [==============================] - 209s 1s/step - loss: 1.5929 - accuracy: 0.4242 - val_loss: 1.1082 - val_accuracy: 0.6104\n",
      "Epoch 2/20\n",
      "156/156 [==============================] - 121s 778ms/step - loss: 0.8405 - accuracy: 0.7024 - val_loss: 1.1289 - val_accuracy: 0.6396\n",
      "Epoch 3/20\n",
      "156/156 [==============================] - 124s 798ms/step - loss: 0.6124 - accuracy: 0.7826 - val_loss: 0.5383 - val_accuracy: 0.7948\n",
      "Epoch 4/20\n",
      "156/156 [==============================] - 123s 788ms/step - loss: 0.5268 - accuracy: 0.8139 - val_loss: 0.7054 - val_accuracy: 0.7698\n",
      "Epoch 5/20\n",
      "156/156 [==============================] - 123s 786ms/step - loss: 0.4409 - accuracy: 0.8407 - val_loss: 0.6434 - val_accuracy: 0.7844\n",
      "Epoch 6/20\n",
      "156/156 [==============================] - 126s 806ms/step - loss: 0.4021 - accuracy: 0.8580 - val_loss: 0.7293 - val_accuracy: 0.7604\n",
      "Epoch 7/20\n",
      "156/156 [==============================] - 124s 796ms/step - loss: 0.3672 - accuracy: 0.8670 - val_loss: 0.7254 - val_accuracy: 0.7781\n",
      "Epoch 8/20\n",
      "156/156 [==============================] - 126s 806ms/step - loss: 0.3331 - accuracy: 0.8822 - val_loss: 0.4979 - val_accuracy: 0.8406\n",
      "Epoch 9/20\n",
      "156/156 [==============================] - 124s 795ms/step - loss: 0.3003 - accuracy: 0.8943 - val_loss: 0.4473 - val_accuracy: 0.8531\n",
      "Epoch 10/20\n",
      "156/156 [==============================] - 144s 923ms/step - loss: 0.2693 - accuracy: 0.9066 - val_loss: 0.6224 - val_accuracy: 0.8177\n",
      "Epoch 11/20\n",
      "156/156 [==============================] - 145s 931ms/step - loss: 0.2490 - accuracy: 0.9112 - val_loss: 0.4467 - val_accuracy: 0.8583\n",
      "Epoch 12/20\n",
      "156/156 [==============================] - 142s 911ms/step - loss: 0.2372 - accuracy: 0.9150 - val_loss: 0.8058 - val_accuracy: 0.7729\n",
      "Epoch 13/20\n",
      "156/156 [==============================] - 135s 868ms/step - loss: 0.2549 - accuracy: 0.9122 - val_loss: 0.3821 - val_accuracy: 0.8708\n",
      "Epoch 14/20\n",
      "156/156 [==============================] - 135s 863ms/step - loss: 0.2041 - accuracy: 0.9259 - val_loss: 0.4204 - val_accuracy: 0.8667\n",
      "Epoch 15/20\n",
      "156/156 [==============================] - 133s 854ms/step - loss: 0.1734 - accuracy: 0.9390 - val_loss: 0.4328 - val_accuracy: 0.8729\n",
      "Epoch 16/20\n",
      "156/156 [==============================] - 142s 912ms/step - loss: 0.1636 - accuracy: 0.9441 - val_loss: 0.3841 - val_accuracy: 0.8740\n",
      "Epoch 17/20\n",
      "156/156 [==============================] - 143s 915ms/step - loss: 0.1564 - accuracy: 0.9449 - val_loss: 0.3263 - val_accuracy: 0.9052\n",
      "Epoch 18/20\n",
      "156/156 [==============================] - 145s 927ms/step - loss: 0.1618 - accuracy: 0.9426 - val_loss: 0.3009 - val_accuracy: 0.9010\n",
      "Epoch 19/20\n",
      "156/156 [==============================] - 150s 959ms/step - loss: 0.1485 - accuracy: 0.9464 - val_loss: 0.3565 - val_accuracy: 0.9000\n",
      "Epoch 20/20\n",
      "156/156 [==============================] - 136s 872ms/step - loss: 0.1580 - accuracy: 0.9451 - val_loss: 0.3527 - val_accuracy: 0.8938\n"
     ]
    }
   ],
   "source": [
    "history=model.fit(train_generator,\n",
    "                   steps_per_epoch=train_generator.n//train_generator.batch_size,\n",
    "                   epochs=20,\n",
    "                   validation_data=validation_generator,\n",
    "                   validation_steps=validation_generator.n//validation_generator.batch_size)\n",
    "model.save(\"my_model.h5\")"
   ]
  },
  {
   "cell_type": "code",
   "execution_count": 20,
   "metadata": {},
   "outputs": [
    {
     "data": {
      "image/png": "[encoded data removed]",
      "text/plain": [
       "<Figure size 432x288 with 1 Axes>"
      ]
     },
     "metadata": {
      "needs_background": "light"
     },
     "output_type": "display_data"
    }
   ],
   "source": [
    "import matplotlib.pyplot as plt\n",
    "plt.plot(history.history['accuracy'])\n",
    "plt.plot(history.history['val_accuracy'])\n",
    "plt.title('Accuracy')\n",
    "plt.xlabel('epoch')\n",
    "plt.ylabel('accuracy')\n",
    "plt.legend(['train','val'],loc='lower right')\n",
    "plt.show()"
   ]
  },
  {
   "cell_type": "code",
   "execution_count": 21,
   "metadata": {},
   "outputs": [
    {
     "data": {
      "image/png": "[encoded data removed]",
      "text/plain": [
       "<Figure size 432x288 with 1 Axes>"
      ]
     },
     "metadata": {
      "needs_background": "light"
     },
     "output_type": "display_data"
    }
   ],
   "source": [
    "plt.plot(history.history['loss'])\n",
    "plt.plot(history.history['val_loss'])\n",
    "plt.title('Loss')\n",
    "plt.xlabel('epoch')\n",
    "plt.ylabel('loss')\n",
    "plt.legend(['train','test'],loc='upper right')\n",
    "plt.show()"
   ]
  },
  {
   "cell_type": "code",
   "execution_count": null,
   "metadata": {},
   "outputs": [],
   "source": []
  },
  {
   "cell_type": "code",
   "execution_count": null,
   "metadata": {},
   "outputs": [],
   "source": []
  },
  {
   "cell_type": "code",
   "execution_count": null,
   "metadata": {},
   "outputs": [],
   "source": []
  },
  {
   "cell_type": "code",
   "execution_count": null,
   "metadata": {},
   "outputs": [],
   "source": []
  },
  {
   "cell_type": "code",
   "execution_count": null,
   "metadata": {},
   "outputs": [],
   "source": []
  },
  {
   "cell_type": "code",
   "execution_count": null,
   "metadata": {},
   "outputs": [],
   "source": []
  },
  {
   "cell_type": "code",
   "execution_count": null,
   "metadata": {},
   "outputs": [],
   "source": []
  },
  {
   "cell_type": "code",
   "execution_count": null,
   "metadata": {},
   "outputs": [],
   "source": []
  },
  {
   "cell_type": "code",
   "execution_count": null,
   "metadata": {},
   "outputs": [],
   "source": []
  },
  {
   "cell_type": "code",
   "execution_count": null,
   "metadata": {},
   "outputs": [],
   "source": []
  },
  {
   "cell_type": "code",
   "execution_count": null,
   "metadata": {},
   "outputs": [],
   "source": []
  },
  {
   "cell_type": "code",
   "execution_count": null,
   "metadata": {},
   "outputs": [],
   "source": []
  },
  {
   "cell_type": "code",
   "execution_count": null,
   "metadata": {},
   "outputs": [],
   "source": []
  },
  {
   "cell_type": "code",
   "execution_count": null,
   "metadata": {},
   "outputs": [],
   "source": []
  },
  {
   "cell_type": "code",
   "execution_count": null,
   "metadata": {},
   "outputs": [],
   "source": []
  },
  {
   "cell_type": "code",
   "execution_count": null,
   "metadata": {},
   "outputs": [],
   "source": []
  },
  {
   "cell_type": "code",
   "execution_count": 60,
   "metadata": {},
   "outputs": [],
   "source": []
  },
  {
   "cell_type": "code",
   "execution_count": null,
   "metadata": {},
   "outputs": [],
   "source": []
  }
 ],
 "metadata": {
  "kernelspec": {
   "display_name": "Python 3",
   "language": "python",
   "name": "python3"
  },
  "language_info": {
   "codemirror_mode": {
    "name": "ipython",
    "version": 3
   },
   "file_extension": ".py",
   "mimetype": "text/x-python",
   "name": "python",
   "nbconvert_exporter": "python",
   "pygments_lexer": "ipython3",
   "version": "3.9.7"
  }
 },
 "nbformat": 4,
 "nbformat_minor": 4
}
