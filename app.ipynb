{
 "cells": [
  {
   "cell_type": "code",
   "execution_count": null,
   "metadata": {},
   "outputs": [],
   "source": [
    "from flask import Flask,render_template,request\n",
    "from keras.models import load_model\n",
    "from tensorflow.keras.optimizers import Adam\n",
    "from keras import models\n",
    "import numpy as np\n",
    "from keras.preprocessing import image\n",
    "import os\n",
    "app = Flask(__name__)\n",
    "classes={'Tomato___Bacterial_spot': 0, 'Tomato___Early_blight': 1, 'Tomato___Late_blight': 2, 'Tomato___Leaf_Mold': 3, 'Tomato___Septoria_leaf_spot': 4, 'Tomato___Spider_mites Two-spotted_spider_mite': 5, 'Tomato___Target_Spot': 6, 'Tomato___Tomato_Yellow_Leaf_Curl_Virus': 7, 'Tomato___Tomato_mosaic_virus': 8, 'Tomato___healthy': 9}\n",
    "BASE_DIR=os.getcwd()\n",
    "upload_folder='./static'\n",
    "def predict(img_loc):\n",
    "\tmodel=load_model('my_model.h5')\n",
    "\tmodel.compile(loss='categorical_crossentropy',\n",
    "\t              optimizer=Adam(lr=0.001),\n",
    "\t                  metrics=['accuracy'])\n",
    "\timg=image.load_img(img_loc,target_size=(128, 128))\n",
    "\tx=image.img_to_array(img)\n",
    "\tx=np.expand_dims(x,axis=0)\n",
    "\timages=np.vstack([x])\n",
    "\tfor key,value in classes.items():\n",
    "\t    if(value==model.predict(images,batch_size=1)):\n",
    "\t        return key\n",
    "\n",
    "\n",
    "@app.route('/',methods=[\"GET\",\"POST\"])\n",
    "def upload():\n",
    "\tif request.method==\"POST\":\n",
    "\t\timage_file=request.files[\"image\"]\n",
    "\t\tif image_file:\n",
    "\t\t\timage_loc=os.path.join(\n",
    "\t\t\t\tupload_folder,image_file.filename\n",
    "\t\t\t)\n",
    "\t\t\timage_file.save(image_loc)\n",
    "\t\t\tdisease=predict(image_loc)\n",
    "\t\t\treturn render_template('tomatoindex2.html',prediction=disease,path=image_file.filename)\n",
    "\treturn render_template('tomatoindex.html')\n",
    "\n",
    "\n",
    "if __name__=='__main__':\n",
    "\tapp.run(debug=True)"
   ]
  }
 ],
 "metadata": {
  "language_info": {
   "name": "python"
  },
  "orig_nbformat": 4
 },
 "nbformat": 4,
 "nbformat_minor": 2
}
